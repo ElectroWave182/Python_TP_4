{
 "cells": [
  {
   "cell_type": "markdown",
   "metadata": {},
   "source": [
    "# TP n°4 : Listes\n",
    "\n"
   ]
  },
  {
   "cell_type": "markdown",
   "metadata": {},
   "source": [
    "___________________________________________________________________________\n",
    "## Liste : premier et dernier\n",
    "\n"
   ]
  },
  {
   "cell_type": "markdown",
   "metadata": {},
   "source": [
    "On se donne une liste d'entiers `L`. Afficher sur une même ligne et séparés par une espace le premier élément de la liste et le dernier élément de la liste. Par exemple,\n",
    "\n",
    "\n",
    "- si `L = [31, 12, 81, 9, 65]` alors l'affichage est : `31 65`\n",
    "\n",
    "- si `L = [42]` alors l'affichage est : `42 42`\n",
    "\n"
   ]
  },
  {
   "cell_type": "code",
   "execution_count": 12,
   "metadata": {},
   "outputs": [
    {
     "name": "stdout",
     "output_type": "stream",
     "text": [
      "31 65\n",
      "42 42\n"
     ]
    }
   ],
   "source": [
    "L = [31, 12, 81, 9, 65]\n",
    "print(L[0], L[-1])\n",
    "\n",
    "L = [42]\n",
    "print(L[0], L[-1])"
   ]
  },
  {
   "cell_type": "markdown",
   "metadata": {},
   "source": [
    "___________________________________________________________________________\n",
    "## Liste : $k$-ème élément\n",
    "\n"
   ]
  },
  {
   "cell_type": "markdown",
   "metadata": {},
   "source": [
    "On se donne une liste d'entiers `L`. On suppose que la liste `L` contient au moins deux éléments. On donne un entier $k\\geq 1$. Afficher le $k$-ème élément de la liste si cet élément existe sinon, on affiche le message *rang invalide*.\n",
    "\n",
    "Exemples d'exécution :\n",
    "\n",
    "\n",
    "- `L = [31, 12, 81, 9, 65]`, `k = 3` -> `81`\n",
    "\n",
    "- `L = [31, 12, 81, 9, 65]`, `k = 42` -> `rang invalide`\n",
    "\n"
   ]
  },
  {
   "cell_type": "code",
   "execution_count": 13,
   "metadata": {},
   "outputs": [
    {
     "name": "stdout",
     "output_type": "stream",
     "text": [
      "3\n",
      "81\n",
      "42\n",
      "rang invalide\n"
     ]
    }
   ],
   "source": [
    "L = [31, 12, 81, 9, 65]\n",
    "for _ in range(2):\n",
    "    k = int(input())\n",
    "    if k > len(L): print(\"rang invalide\")\n",
    "    else: print(L[k - 1])"
   ]
  },
  {
   "cell_type": "markdown",
   "metadata": {},
   "source": [
    "___________________________________________________________________________\n",
    "## Liste de trois éléments\n",
    "\n"
   ]
  },
  {
   "cell_type": "markdown",
   "metadata": {},
   "source": [
    "On donne un entier $x$ et on compte de 10 en 10 trois fois à partir de x. Construire la liste $L$ qui contient les trois nombres obtenus. Par exemple, si x=42, la liste est formée des trois entiers 42, 52 et 62.\n",
    "\n"
   ]
  },
  {
   "cell_type": "code",
   "execution_count": 14,
   "metadata": {},
   "outputs": [
    {
     "name": "stdout",
     "output_type": "stream",
     "text": [
      "42\n",
      "[42, 52, 62]\n"
     ]
    }
   ],
   "source": [
    "x = int(input())\n",
    "L = [x + a for a in range(0, 30, 10)]\n",
    "print(L)"
   ]
  },
  {
   "cell_type": "markdown",
   "metadata": {},
   "source": [
    "___________________________________________________________________________\n",
    "## Changer certains éléments d'une liste\n",
    "\n"
   ]
  },
  {
   "cell_type": "markdown",
   "metadata": {},
   "source": [
    "On donne une liste `L` d'entiers ayant au moins 3 valeurs. Modifier cette liste pour que les éléments $x$ de la liste qui sont\n",
    "\n",
    "\n",
    "- en première position\n",
    "\n",
    "- en deuxième position\n",
    "\n",
    "- en dernière position\n",
    "\n",
    "soient remplacés par $10x$. Par exemple, si `L = [31, 12, 81, 9, 65] ` alors, après modification, on aura `L = [310, 120, 81, 9, 650]`.\n",
    "\n"
   ]
  },
  {
   "cell_type": "code",
   "execution_count": 15,
   "metadata": {},
   "outputs": [
    {
     "name": "stdout",
     "output_type": "stream",
     "text": [
      "[310, 120, 81, 9, 650]\n"
     ]
    }
   ],
   "source": [
    "L = [31, 12, 81, 9, 65]\n",
    "L[0] *= 10\n",
    "L[1] *= 10\n",
    "L[-1] *= 10\n",
    "print(L)"
   ]
  },
  {
   "cell_type": "markdown",
   "metadata": {},
   "source": [
    "___________________________________________________________________________\n",
    "## Test de présence\n",
    "\n"
   ]
  },
  {
   "cell_type": "markdown",
   "metadata": {},
   "source": [
    "On donne\n",
    "\n",
    "\n",
    "- une liste d'entiers `L`\n",
    "\n",
    "- un entier `x`\n",
    "\n",
    "On rappelle que `x in L` est un booléen qui teste la présence de `x` dans la liste `L`.\n",
    "\n",
    "Construire un booléen `ok` qui vaut `True` si l'un des trois entiers `x`, `x - 1` et `x + 1` est dans la liste et `False` sinon. Exemple avec `x = 42` :\n",
    "\n",
    "\n",
    "- si `L =[31, 12, 42, 9, 65]` alors `ok = True`\n",
    "\n",
    "- si `L =[31, 12, 81, 43]` alors `ok = True`\n",
    "\n",
    "- si `L =[41]` alors `ok = True`\n",
    "\n",
    "- si `L =[31, 12, 81, 9, 65]` alors `ok = False`\n",
    "\n"
   ]
  },
  {
   "cell_type": "code",
   "execution_count": 18,
   "metadata": {},
   "outputs": [
    {
     "name": "stdout",
     "output_type": "stream",
     "text": [
      "42\n",
      "True\n",
      "True\n",
      "True\n",
      "False\n"
     ]
    }
   ],
   "source": [
    "x = int(input())\n",
    "\n",
    "L = [31, 12, 42, 9, 65]\n",
    "ok = x - 1 in L or x in L or x + 1 in L\n",
    "print(ok)\n",
    "\n",
    "L = [31, 12, 81, 43]\n",
    "ok = x - 1 in L or x in L or x + 1 in L\n",
    "print(ok)\n",
    "\n",
    "L = [41]\n",
    "ok = x - 1 in L or x in L or x + 1 in L\n",
    "print(ok)\n",
    "\n",
    "L = [31, 12, 81, 9, 65]\n",
    "ok = x - 1 in L or x in L or x + 1 in L\n",
    "print(ok)"
   ]
  },
  {
   "cell_type": "markdown",
   "metadata": {},
   "source": [
    "___________________________________________________________________________\n",
    "## Liste des solutions de l'équation du second degré\n",
    "\n"
   ]
  },
  {
   "cell_type": "markdown",
   "metadata": {},
   "source": [
    "Soit l'équation du second degré $ax^2+bx+c=0$. On supposera que $a,b,c$ sont des entiers, que $a$ est non nul et que l'inconnue $x$ est un nombre réel.\n",
    "\n",
    "On rappelle le code Python de la résolution  d'une équation du second degré :\n",
    "\n"
   ]
  },
  {
   "cell_type": "code",
   "execution_count": null,
   "metadata": {},
   "outputs": [],
   "source": [
    "a = 2\n",
    "b = -3\n",
    "c = 1\n",
    "delta = b*b -4*a*c\n",
    "if delta >0:\n",
    "    print(\"2 solutions distinctes :\")\n",
    "    print(\"x1 =\", (-b - delta**0.5)/(2.*a))\n",
    "    print(\"x2 =\", (-b + delta**0.5)/(2.*a))\n",
    "else:\n",
    "    if delta == 0:\n",
    "        print(\"une seule solution\")\n",
    "        print(\"x =\", (-b)/(2.*a))\n",
    "    else:\n",
    "        print(\"Aucune solution\")\n"
   ]
  },
  {
   "cell_type": "markdown",
   "metadata": {},
   "source": [
    "Adapter le code précédent pour construire la liste S contenant toutes les solutions de l'équation. Par exemple,\n",
    "\n",
    "\n",
    "- si a = 2, b=-3 et c = 1 alors   `S = [1, 0.5]`\n",
    "\n",
    "- si a = 4, b=4 et c = 1 alors   `S = [-0.5]`\n",
    "\n",
    "- si a = 4, b=4 et c = 4 alors   `S` est la liste vide\n",
    "\n"
   ]
  },
  {
   "cell_type": "code",
   "execution_count": 22,
   "metadata": {},
   "outputs": [
    {
     "name": "stdout",
     "output_type": "stream",
     "text": [
      "2\n",
      "-3\n",
      "1\n",
      "2 solutions distinctes :\n",
      "[0.5, 1.0]\n",
      "\n",
      "4\n",
      "4\n",
      "1\n",
      "une seule solution\n",
      "[-0.5]\n",
      "\n",
      "4\n",
      "4\n",
      "4\n",
      "Aucune solution\n",
      "\n"
     ]
    }
   ],
   "source": [
    "for _ in range(3):\n",
    "    a = int(input())\n",
    "    b = int(input())\n",
    "    c = int(input())\n",
    "    delta = b*b -4*a*c\n",
    "    if delta >0:\n",
    "        print(\"2 solutions distinctes :\")\n",
    "        S = [(-b - delta**0.5)/(2.*a), (-b + delta**0.5)/(2.*a)]\n",
    "    elif delta == 0:\n",
    "        print(\"une seule solution\")\n",
    "        S = [(-b)/(2.*a)]\n",
    "    else:\n",
    "        print(\"Aucune solution\")\n",
    "        S = []\n",
    "    if S != []: print(S)\n",
    "    print()"
   ]
  },
  {
   "cell_type": "markdown",
   "metadata": {},
   "source": [
    "___________________________________________________________________________\n",
    "## Tester les mois de 31 jours avec une liste\n",
    "\n"
   ]
  },
  {
   "cell_type": "markdown",
   "metadata": {},
   "source": [
    "Construire une liste littérale `jours` telle que pour chaque numéro `i` entre 1 et 12 d'un mois d'une année non bissextile, `jours[i]` désigne le nombre de jours du mois de numéro `i`. Par exemple, `jours[10] = 31`.\n",
    "\n",
    "En déduire une variable booléenne `mois31` qui, étant donné un numéro de mois `i`, vaut `True` si le mois de numéro `i` possède 31 jours et `False` sinon.\n",
    "\n"
   ]
  },
  {
   "cell_type": "code",
   "execution_count": 24,
   "metadata": {},
   "outputs": [
    {
     "name": "stdout",
     "output_type": "stream",
     "text": [
      "10\n",
      "31\n"
     ]
    }
   ],
   "source": [
    "i = int(input())\n",
    "jours = [31, 28, 31, 30, 31, 30, 31, 31, 30, 31, 30, 31]\n",
    "mois31 = jours[i + 1]\n",
    "print(mois31)"
   ]
  },
  {
   "cell_type": "markdown",
   "metadata": {},
   "source": [
    "___________________________________________________________________________\n",
    "## Somme des multiples de 10\n",
    "\n"
   ]
  },
  {
   "cell_type": "markdown",
   "metadata": {},
   "source": [
    "On donne une liste `L` d'entiers. Calculer la somme `s` des éléments de `L` qui sont des multiples de 10. Par exemple, si `L = [310, 12, 8100, 90, 31]` alors `s = 8500`.\n",
    "\n"
   ]
  },
  {
   "cell_type": "code",
   "execution_count": 28,
   "metadata": {},
   "outputs": [
    {
     "name": "stdout",
     "output_type": "stream",
     "text": [
      "8500\n"
     ]
    }
   ],
   "source": [
    "L = [310, 12, 8100, 90, 31]\n",
    "s = sum([ent for ent in L if ent % 10 == 0])\n",
    "print(s)"
   ]
  },
  {
   "cell_type": "markdown",
   "metadata": {},
   "source": [
    "___________________________________________________________________________\n",
    "## Somme suivant les indices impairs\n",
    "\n"
   ]
  },
  {
   "cell_type": "markdown",
   "metadata": {},
   "source": [
    "On donne une liste `L` d'entiers. Calculer la somme `s` des éléments de `L` dont l'indice est impair. Par exemple, si `L = [31, 12, 81, 9, 31]` alors `s = 21`.\n",
    "\n"
   ]
  },
  {
   "cell_type": "code",
   "execution_count": 30,
   "metadata": {},
   "outputs": [
    {
     "name": "stdout",
     "output_type": "stream",
     "text": [
      "21\n"
     ]
    }
   ],
   "source": [
    "L = [31, 12, 81, 9, 31]\n",
    "s = sum([L[rang] for rang in range(len(L)) if rang % 2 == 1])\n",
    "print(s)"
   ]
  },
  {
   "cell_type": "markdown",
   "metadata": {},
   "source": [
    "___________________________________________________________________________\n",
    "## Modifier une liste en multipliant par 10\n",
    "\n"
   ]
  },
  {
   "cell_type": "markdown",
   "metadata": {},
   "source": [
    "On donne une liste d'entiers. Modifier cette liste pour que chaque élément $x$ de la liste soit remplacé par $10x$. Par exemple, si `L = [31, 12, 81, 9, 65] ` alors, après modification, on aura `L = [310, 120, 810, 90, 650]`.\n",
    "\n"
   ]
  },
  {
   "cell_type": "code",
   "execution_count": 31,
   "metadata": {},
   "outputs": [
    {
     "name": "stdout",
     "output_type": "stream",
     "text": [
      "[310, 120, 810, 90, 650]\n"
     ]
    }
   ],
   "source": [
    "L = [31, 12, 81, 9, 65]\n",
    "L = [10*x for x in L]\n",
    "print(L)"
   ]
  },
  {
   "cell_type": "markdown",
   "metadata": {},
   "source": [
    "___________________________________________________________________________\n",
    "## Calcul du minimum\n",
    "\n"
   ]
  },
  {
   "cell_type": "markdown",
   "metadata": {},
   "source": [
    "On donne une liste L d'entiers. Calculer le plus petit élément `mini` de la liste. Par exemple, si `L = [31, 9, 81, 9, 31]` alors `mini = 9`.\n",
    "\n"
   ]
  },
  {
   "cell_type": "code",
   "execution_count": 32,
   "metadata": {},
   "outputs": [
    {
     "name": "stdout",
     "output_type": "stream",
     "text": [
      "9\n"
     ]
    }
   ],
   "source": [
    "L = [31, 9, 81, 9, 31]\n",
    "mini = L[0]\n",
    "for x in L:\n",
    "    if x < mini: mini = x\n",
    "print(mini)\n",
    "\n",
    "# Peut aussi s'écrire 'print(min(L))'"
   ]
  },
  {
   "cell_type": "markdown",
   "metadata": {},
   "source": [
    "___________________________________________________________________________\n",
    "## Indice du minimum\n",
    "\n"
   ]
  },
  {
   "cell_type": "markdown",
   "metadata": {},
   "source": [
    "On donne une liste d'entiers. Déterminer un indice `i_mini` correspondant au plus petit élément `mini` de la liste. Par exemple\n",
    "\n",
    "\n",
    "- si `L = [31, 12, 81, 9, 31]` alors `mini = 9` et `i_mini = 3`\n",
    "\n",
    "- si `L = [31, 9, 81, 9, 31]` alors `mini = 9` et `i_mini = 1` (ou encore `i_mini = 3`)\n",
    "\n"
   ]
  },
  {
   "cell_type": "code",
   "execution_count": 36,
   "metadata": {},
   "outputs": [
    {
     "name": "stdout",
     "output_type": "stream",
     "text": [
      "3\n",
      "1\n"
     ]
    }
   ],
   "source": [
    "L = [31, 12, 81, 9, 31]\n",
    "mini = L[0]\n",
    "for rang in range(len(L)):\n",
    "    x = L[rang]\n",
    "    if x < mini: mini, i_mini = x, rang\n",
    "print(i_mini)\n",
    "\n",
    "L = [31, 9, 81, 9, 31]\n",
    "mini = L[0]\n",
    "for rang in range(len(L)):\n",
    "    x = L[rang]\n",
    "    if x < mini: mini, i_mini = x, rang\n",
    "print(i_mini)\n",
    "\n",
    "# Peut aussi s'écrire 'print(L.index(min(L)))'"
   ]
  },
  {
   "cell_type": "markdown",
   "metadata": {},
   "source": [
    "___________________________________________________________________________\n",
    "## Minimum des entiers d'indices pairs\n",
    "\n"
   ]
  },
  {
   "cell_type": "markdown",
   "metadata": {},
   "source": [
    "On donne une liste `L` d'entiers. Calcul `mini_pairs` le plus petit des éléments d'indices pairs de la liste. Par exemple, si `L = [81, 32, 12, 9, 10, 65, 46]` alors `mini_pairs = 10`.\n",
    "\n"
   ]
  },
  {
   "cell_type": "code",
   "execution_count": 38,
   "metadata": {},
   "outputs": [
    {
     "name": "stdout",
     "output_type": "stream",
     "text": [
      "10\n"
     ]
    }
   ],
   "source": [
    "L = [81, 32, 12, 9, 10, 65, 46]\n",
    "mini_pairs = L[0]\n",
    "for rang in range(len(L)):\n",
    "    x = L[rang]\n",
    "    if x < mini_pairs and rang % 2 == 0: mini_pairs = x\n",
    "print(mini_pairs)"
   ]
  },
  {
   "cell_type": "markdown",
   "metadata": {},
   "source": [
    "___________________________________________________________________________\n",
    "## Valeurs paires d'une liste\n",
    "\n"
   ]
  },
  {
   "cell_type": "markdown",
   "metadata": {},
   "source": [
    "Soit une liste `L` d'entiers. Séparer cette liste en deux listes :\n",
    "\n",
    "\n",
    "- la liste `P` des entiers pairs de `L`\n",
    "\n",
    "- la liste `I` des entiers impairs de `L`\n",
    "\n",
    "Par exemple, si `L = [31, 12, 9, 65, 81, 42]` alors `P = [12, 42]` et `I = [31, 9, 65, 81]`\n",
    "\n"
   ]
  },
  {
   "cell_type": "code",
   "execution_count": 41,
   "metadata": {},
   "outputs": [
    {
     "name": "stdout",
     "output_type": "stream",
     "text": [
      "[12, 42]\n",
      "[31, 9, 65, 81]\n"
     ]
    }
   ],
   "source": [
    "L = [31, 12, 9, 65, 81, 42]\n",
    "def lEnt(L, reste):\n",
    "    return [ent for ent in L if ent % 2 == reste]\n",
    "P, I = lEnt(L, 0), lEnt(L, 1)\n",
    "print(P, I, sep = \"\\n\")"
   ]
  },
  {
   "cell_type": "markdown",
   "metadata": {},
   "source": [
    "___________________________________________________________________________\n",
    "## Indices pairs\n",
    "\n"
   ]
  },
  {
   "cell_type": "markdown",
   "metadata": {},
   "source": [
    "Soit une liste `L`. Séparer cette liste en deux listes :\n",
    "\n",
    "\n",
    "- la liste `IP` des éléments de `L` d'indices pairs\n",
    "\n",
    "- la liste `II` des éléments de `L` d'indices impairs\n",
    "\n",
    "Par exemple, si `L = [31, 12, 9, 65, 81, 42]` alors `IP = [31, 9, 81]` et `II = [12, 65, 42]`.\n",
    "\n"
   ]
  },
  {
   "cell_type": "code",
   "execution_count": 42,
   "metadata": {},
   "outputs": [
    {
     "name": "stdout",
     "output_type": "stream",
     "text": [
      "[31, 9, 81]\n",
      "[12, 65, 42]\n"
     ]
    }
   ],
   "source": [
    "L = [31, 12, 9, 65, 81, 42]\n",
    "def lEnt(L, reste):\n",
    "    return [L[rang] for rang in range(reste, len(L), 2)]\n",
    "IP, II = lEnt(L, 0), lEnt(L, 1)\n",
    "print(IP, II, sep = \"\\n\")"
   ]
  },
  {
   "cell_type": "markdown",
   "metadata": {},
   "source": [
    "___________________________________________________________________________\n",
    "## Echanger deux variables\n",
    "\n"
   ]
  },
  {
   "cell_type": "markdown",
   "metadata": {},
   "source": [
    "Étant donné deux variables $x$ et $y$, on veut permuter leurs valeurs. Par exemple si au départ $x=81$ et $y=31$ alors, après échange, on doit avoir: $x=31$ et $y=81$. On pourra compléter le code ci-dessous :\n",
    "\n"
   ]
  },
  {
   "cell_type": "code",
   "execution_count": 45,
   "metadata": {},
   "outputs": [
    {
     "name": "stdout",
     "output_type": "stream",
     "text": [
      "81 31\n",
      "31 81\n"
     ]
    }
   ],
   "source": [
    "x=81\n",
    "y=31\n",
    "print(x,y)\n",
    "\n",
    "# Votre code ICI\n",
    "\n",
    "print(x,y)"
   ]
  },
  {
   "cell_type": "markdown",
   "metadata": {},
   "source": [
    "Bien sûr votre code doit fonctionner correctement si on donne d'autres valeurs à `x` et `y` aux lignes 1 et 2.\n",
    "\n",
    "On fera comme lorsqu'on veut échanger deux étiquettes A et B placées sur des objets : on utilise une étiquette de nommage temporaire.\n",
    "\n"
   ]
  },
  {
   "cell_type": "code",
   "execution_count": 46,
   "metadata": {},
   "outputs": [
    {
     "name": "stdout",
     "output_type": "stream",
     "text": [
      "81 31\n",
      "31 81\n"
     ]
    }
   ],
   "source": [
    "x, y = 81, 31\n",
    "print(x, y)\n",
    "\n",
    "y, x = [x, y]\n",
    "\n",
    "print(x, y)"
   ]
  },
  {
   "cell_type": "markdown",
   "metadata": {},
   "source": [
    "___________________________________________________________________________\n",
    "## Echanger les extrémités d'une liste\n",
    "\n"
   ]
  },
  {
   "cell_type": "markdown",
   "metadata": {},
   "source": [
    "*Cette question nécessite d'adapter aux éléments d'une liste le code d'échange des valeurs de deux variables.*\n",
    "\n",
    "Soit une liste `L`. Modifier `L` pour que son premier élément et son dernier élément soient échangés. Par exemple, si `L = [31, 12, 9, 65, 81]` alors après échange, on aura  `L = [81, 12, 9, 65, 31]`.\n",
    "\n"
   ]
  },
  {
   "cell_type": "code",
   "execution_count": 47,
   "metadata": {},
   "outputs": [
    {
     "name": "stdout",
     "output_type": "stream",
     "text": [
      "[81, 12, 9, 65, 31]\n"
     ]
    }
   ],
   "source": [
    "L = [31, 12, 9, 65, 81]\n",
    "L[0], L[-1] = L[-1], L[0]\n",
    "print(L)"
   ]
  },
  {
   "cell_type": "markdown",
   "metadata": {},
   "source": [
    "___________________________________________________________________________\n",
    "## Echanger côte à côte\n",
    "\n"
   ]
  },
  {
   "cell_type": "markdown",
   "metadata": {},
   "source": [
    "Soit une liste `L`. Modifier `L` pour que\n",
    "\n",
    "\n",
    "- le 1er élément et le 2ème élément soient échangés de position\n",
    "\n",
    "- le 3ème élément et le 4ème élément soient échangés de position\n",
    "\n",
    "- ...\n",
    "\n",
    "- et ainsi de suite jusqu'à ce que plus aucun échange ne soit possible.\n",
    "\n",
    "Par exemple,\n",
    "\n",
    "\n",
    "- si `L = [31, 12, 9, 65, 81, 42]` alors, après échanges, `L = [12, 31, 65, 9,42, 81]`\n",
    "\n",
    "- si `L = [31, 12, 9, 65, 81]` alors, après échanges, `L = [12, 31, 65, 9, 81]`\n",
    "\n",
    "- si `L = [31]` alors, après échange, `L = [31]`\n",
    "\n"
   ]
  },
  {
   "cell_type": "code",
   "execution_count": 50,
   "metadata": {},
   "outputs": [
    {
     "name": "stdout",
     "output_type": "stream",
     "text": [
      "[12, 31, 65, 9, 42, 81]\n",
      "[12, 31, 65, 9, 81]\n",
      "[31]\n"
     ]
    }
   ],
   "source": [
    "def echange(L):\n",
    "    for rang in range(0, len(L) - 1, 2):\n",
    "        L[rang], L[rang + 1] = L[rang + 1], L[rang]\n",
    "    return L\n",
    "print(echange([31, 12, 9, 65, 81, 42]), echange([31, 12, 9, 65, 81]), echange([31]), sep = \"\\n\")"
   ]
  },
  {
   "cell_type": "markdown",
   "metadata": {},
   "source": [
    "___________________________________________________________________________\n",
    "## Inverser une liste\n",
    "\n"
   ]
  },
  {
   "cell_type": "markdown",
   "metadata": {},
   "source": [
    "Soit une liste `L`. Modifier `L` pour que\n",
    "\n",
    "\n",
    "- le 1er élément et le dernier élément soient échangés de position\n",
    "\n",
    "- le 2ème élément et l'avant-dernier élément soient échangés de position\n",
    "\n",
    "- ...\n",
    "\n",
    "- et ainsi de suite jusqu'à ce que tous les échanges possibles soient effectués.\n",
    "\n",
    "Par exemple,\n",
    "\n",
    "\n",
    "- si `L = [31, 12, 9, 65]` alors, après échanges, `L = [65, 9, 12, 31]`\n",
    "\n",
    "- si `L = [31, 12, 81, 9, 65]` alors, après échanges, `L = [65, 9, 81, 12, 31]`\n",
    "\n",
    "- si `L = [31]` alors, après échange, `L = [31]`\n",
    "\n"
   ]
  },
  {
   "cell_type": "code",
   "execution_count": 57,
   "metadata": {
    "scrolled": true
   },
   "outputs": [
    {
     "name": "stdout",
     "output_type": "stream",
     "text": [
      "[65, 9, 12, 31]\n",
      "[65, 9, 81, 12, 31]\n",
      "[31]\n"
     ]
    }
   ],
   "source": [
    "def inverse(L):\n",
    "    for rang in range(len(L)//2):\n",
    "        L[rang], L[-rang - 1] = L[-rang - 1], L[rang]\n",
    "    return L\n",
    "print(inverse([31, 12, 9, 65]), inverse([31, 12, 81, 9, 65]), inverse([31]), sep = \"\\n\")\n",
    "\n",
    "# Peut aussi s'écrire 'L.reverse()'\n",
    "                    # 'print(L)'"
   ]
  },
  {
   "cell_type": "markdown",
   "metadata": {},
   "source": [
    "___________________________________________________________________________\n",
    "## Décompte pair/impair\n",
    "\n"
   ]
  },
  {
   "cell_type": "markdown",
   "metadata": {},
   "source": [
    "On donne une liste `L` d'entiers et on demande de calculer\n",
    "\n",
    "\n",
    "- le nombre  `n_pair` d'indices `i` tel que l'élément `L[i]` est pair\n",
    "\n",
    "- le nombre  `n_impair` d'indices `i` tel que l'élément `L[i]` est impair\n",
    "\n",
    "Par exemple, si `L = [31, 12, 9, 65, 81, 42]` alors `n_pair = 2` et `n_impair = 4`.\n",
    "\n"
   ]
  },
  {
   "cell_type": "code",
   "execution_count": 60,
   "metadata": {},
   "outputs": [
    {
     "name": "stdout",
     "output_type": "stream",
     "text": [
      "2\n",
      "4\n"
     ]
    }
   ],
   "source": [
    "L = [31, 12, 9, 65, 81, 42]\n",
    "n_pair, n_impair = 0, 0\n",
    "for x in L:\n",
    "    if x % 2 == 0: n_pair += 1\n",
    "    else: n_impair += 1\n",
    "print(n_pair, n_impair, sep = \"\\n\")"
   ]
  },
  {
   "cell_type": "markdown",
   "metadata": {},
   "source": [
    "___________________________________________________________________________\n",
    "## Minimum présent une seule fois\n",
    "\n"
   ]
  },
  {
   "cell_type": "markdown",
   "metadata": {},
   "source": [
    "On donne une liste `L` d'entiers. Soit `mini` le plus petit élément de la liste. Construire une variable `miniUnique` qui vaut `True` ou `False` selon que `mini` apparaît une seule fois dans la liste ou au contraire, plusieurs fois. Par exemple\n",
    "\n",
    "\n",
    "- si `L = [31, 12, 81, 9, 31]` alors `mini = 9` et  `miniUnique=True` ;\n",
    "\n",
    "- si `L = [31, 9, 81, 9, 31]` alors `mini = 9` et `miniUnique=False`.\n",
    "\n"
   ]
  },
  {
   "cell_type": "code",
   "execution_count": 59,
   "metadata": {},
   "outputs": [
    {
     "name": "stdout",
     "output_type": "stream",
     "text": [
      "True\n",
      "False\n"
     ]
    }
   ],
   "source": [
    "def test(L):\n",
    "    return L.count(min(L)) == 1\n",
    "print(test([31, 12, 81, 9, 31]), test([31, 9, 81, 9, 31]), sep = \"\\n\")"
   ]
  }
 ],
 "metadata": {
  "kernelspec": {
   "display_name": "Python 3",
   "language": "python",
   "name": "python3"
  },
  "language_info": {
   "codemirror_mode": {
    "name": "ipython",
    "version": 3
   },
   "file_extension": ".py",
   "mimetype": "text/x-python",
   "name": "python",
   "nbconvert_exporter": "python",
   "pygments_lexer": "ipython3",
   "version": "3.8.5"
  }
 },
 "nbformat": 4,
 "nbformat_minor": 1
}
